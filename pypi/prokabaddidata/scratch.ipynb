{
 "cells": [
  {
   "cell_type": "code",
   "execution_count": 1,
   "metadata": {},
   "outputs": [],
   "source": [
    "import pandas as pd\n"
   ]
  },
  {
   "cell_type": "code",
   "execution_count": 2,
   "metadata": {},
   "outputs": [],
   "source": [
    "df = pd.read_csv(\"./Player-Wise-Data/merged_raider_v_num_defenders_FINAL.csv\")\n"
   ]
  },
  {
   "cell_type": "code",
   "execution_count": 5,
   "metadata": {},
   "outputs": [],
   "source": [
    "df.columns\n",
    "\n",
    "\n",
    "df.rename(columns={'season_num': 'Season_Number', 'team_name': 'Team Name', 'Raider Name': 'Raider Name', 'Number of Defenders': 'Number of Defenders', 'Total Raids': 'Total Raids', '% of Raids': 'Percentage of Raids', 'Empty': 'Empty Raids Percentage', 'Successful': 'Successful Raids Percentage'}, inplace=True)\n"
   ]
  },
  {
   "cell_type": "code",
   "execution_count": 6,
   "metadata": {},
   "outputs": [
    {
     "data": {
      "text/html": [
       "<div>\n",
       "<style scoped>\n",
       "    .dataframe tbody tr th:only-of-type {\n",
       "        vertical-align: middle;\n",
       "    }\n",
       "\n",
       "    .dataframe tbody tr th {\n",
       "        vertical-align: top;\n",
       "    }\n",
       "\n",
       "    .dataframe thead th {\n",
       "        text-align: right;\n",
       "    }\n",
       "</style>\n",
       "<table border=\"1\" class=\"dataframe\">\n",
       "  <thead>\n",
       "    <tr style=\"text-align: right;\">\n",
       "      <th></th>\n",
       "      <th>season</th>\n",
       "      <th>Season_Number</th>\n",
       "      <th>Team Name</th>\n",
       "      <th>player-id-pkdc-sanitised</th>\n",
       "      <th>player-id</th>\n",
       "      <th>Raider Name</th>\n",
       "      <th>Number of Defenders</th>\n",
       "      <th>Total Raids</th>\n",
       "      <th>Percentage of Raids</th>\n",
       "      <th>Empty Raids Percentage</th>\n",
       "      <th>Successful Raids Percentage</th>\n",
       "    </tr>\n",
       "  </thead>\n",
       "  <tbody>\n",
       "    <tr>\n",
       "      <th>0</th>\n",
       "      <td>PKL-06</td>\n",
       "      <td>6</td>\n",
       "      <td>Haryana Steelers</td>\n",
       "      <td>644</td>\n",
       "      <td>644</td>\n",
       "      <td>Anand Tomar</td>\n",
       "      <td>5</td>\n",
       "      <td>2</td>\n",
       "      <td>10.00%</td>\n",
       "      <td>100.00%</td>\n",
       "      <td>NaN</td>\n",
       "    </tr>\n",
       "    <tr>\n",
       "      <th>1</th>\n",
       "      <td>PKL-06</td>\n",
       "      <td>6</td>\n",
       "      <td>Haryana Steelers</td>\n",
       "      <td>644</td>\n",
       "      <td>644</td>\n",
       "      <td>Anand Tomar</td>\n",
       "      <td>6</td>\n",
       "      <td>3</td>\n",
       "      <td>15%</td>\n",
       "      <td>NaN</td>\n",
       "      <td>33.30%</td>\n",
       "    </tr>\n",
       "    <tr>\n",
       "      <th>2</th>\n",
       "      <td>PKL-06</td>\n",
       "      <td>6</td>\n",
       "      <td>Haryana Steelers</td>\n",
       "      <td>644</td>\n",
       "      <td>644</td>\n",
       "      <td>Anand Tomar</td>\n",
       "      <td>7</td>\n",
       "      <td>15</td>\n",
       "      <td>75.00%</td>\n",
       "      <td>20.00%</td>\n",
       "      <td>40.00%</td>\n",
       "    </tr>\n",
       "    <tr>\n",
       "      <th>3</th>\n",
       "      <td>PKL-06</td>\n",
       "      <td>6</td>\n",
       "      <td>Haryana Steelers</td>\n",
       "      <td>2318</td>\n",
       "      <td>2318</td>\n",
       "      <td>Arun Kumar</td>\n",
       "      <td>7</td>\n",
       "      <td>5</td>\n",
       "      <td>100.00%</td>\n",
       "      <td>20.00%</td>\n",
       "      <td>20.00%</td>\n",
       "    </tr>\n",
       "    <tr>\n",
       "      <th>4</th>\n",
       "      <td>PKL-06</td>\n",
       "      <td>6</td>\n",
       "      <td>Haryana Steelers</td>\n",
       "      <td>2315</td>\n",
       "      <td>2315</td>\n",
       "      <td>Bhuvneshwar Gaur</td>\n",
       "      <td>6</td>\n",
       "      <td>1</td>\n",
       "      <td>14%</td>\n",
       "      <td>NaN</td>\n",
       "      <td>NaN</td>\n",
       "    </tr>\n",
       "  </tbody>\n",
       "</table>\n",
       "</div>"
      ],
      "text/plain": [
       "   season  Season_Number         Team Name player-id-pkdc-sanitised player-id  \\\n",
       "0  PKL-06              6  Haryana Steelers                      644       644   \n",
       "1  PKL-06              6  Haryana Steelers                      644       644   \n",
       "2  PKL-06              6  Haryana Steelers                      644       644   \n",
       "3  PKL-06              6  Haryana Steelers                     2318      2318   \n",
       "4  PKL-06              6  Haryana Steelers                     2315      2315   \n",
       "\n",
       "        Raider Name  Number of Defenders  Total Raids Percentage of Raids  \\\n",
       "0       Anand Tomar                    5            2              10.00%   \n",
       "1       Anand Tomar                    6            3                 15%   \n",
       "2       Anand Tomar                    7           15              75.00%   \n",
       "3        Arun Kumar                    7            5             100.00%   \n",
       "4  Bhuvneshwar Gaur                    6            1                 14%   \n",
       "\n",
       "  Empty Raids Percentage Successful Raids Percentage  \n",
       "0                100.00%                         NaN  \n",
       "1                    NaN                      33.30%  \n",
       "2                 20.00%                      40.00%  \n",
       "3                 20.00%                      20.00%  \n",
       "4                    NaN                         NaN  "
      ]
     },
     "execution_count": 6,
     "metadata": {},
     "output_type": "execute_result"
    }
   ],
   "source": [
    "df.head()\n"
   ]
  },
  {
   "cell_type": "code",
   "execution_count": 7,
   "metadata": {},
   "outputs": [],
   "source": [
    "df.to_csv(\"./Player-Wise-Data/merged_raider_v_num_defenders_FINAL.csv\")\n"
   ]
  },
  {
   "cell_type": "code",
   "execution_count": 8,
   "metadata": {},
   "outputs": [
    {
     "data": {
      "text/plain": [
       "Index(['season', 'Season_Number', 'Team Name', 'player-id-pkdc-sanitised',\n",
       "       'player-id', 'Raider Name', 'Number of Defenders', 'Total Raids',\n",
       "       'Percentage of Raids', 'Empty Raids Percentage',\n",
       "       'Successful Raids Percentage'],\n",
       "      dtype='object')"
      ]
     },
     "execution_count": 8,
     "metadata": {},
     "output_type": "execute_result"
    }
   ],
   "source": [
    "df.columns\n"
   ]
  },
  {
   "cell_type": "code",
   "execution_count": null,
   "metadata": {},
   "outputs": [],
   "source": []
  }
 ],
 "metadata": {
  "kernelspec": {
   "display_name": "cmu",
   "language": "python",
   "name": "python3"
  },
  "language_info": {
   "codemirror_mode": {
    "name": "ipython",
    "version": 3
   },
   "file_extension": ".py",
   "mimetype": "text/x-python",
   "name": "python",
   "nbconvert_exporter": "python",
   "pygments_lexer": "ipython3",
   "version": "3.10.14"
  }
 },
 "nbformat": 4,
 "nbformat_minor": 2
}
