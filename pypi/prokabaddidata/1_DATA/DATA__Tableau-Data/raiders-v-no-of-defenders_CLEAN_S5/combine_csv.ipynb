{
 "cells": [
  {
   "cell_type": "code",
   "execution_count": 51,
   "metadata": {},
   "outputs": [],
   "source": [
    "import os\n",
    "\n",
    "import pandas as pd\n"
   ]
  },
  {
   "cell_type": "code",
   "execution_count": 58,
   "metadata": {},
   "outputs": [
    {
     "data": {
      "text/plain": [
       "(['Bengal Warriors s9 conv_clean.csv',\n",
       "  'Bengaluru Bulls s9 conv_clean.csv',\n",
       "  'Dabang Delhi s9 conv_clean.csv',\n",
       "  'Gujarat Fortunegiants s9 conv_clean.csv',\n",
       "  'Jaipur Pink Panthers s9 conv_clean.csv',\n",
       "  'Patna Pirates s9 conv_clean.csv',\n",
       "  'Puneri Paltan s9 conv_clean.csv',\n",
       "  'Tamil Thailaivas s9 conv_clean.csv',\n",
       "  'Telugu Titans s9 conv_clean.csv',\n",
       "  'U Mumba s9 conv_clean.csv',\n",
       "  'UP Yoddha s9 conv_clean.csv',\n",
       "  'harayana s9 conv_clean.csv'],\n",
       " 12)"
      ]
     },
     "execution_count": 58,
     "metadata": {},
     "output_type": "execute_result"
    }
   ],
   "source": [
    "df_paths = [i for i in os.listdir(\"./s9_csv/csv_clean/\") if i.endswith(\".csv\") and \"$\" not in i]\n",
    "df_paths.sort()\n",
    "df_paths, len(df_paths)\n",
    "\n"
   ]
  },
  {
   "cell_type": "code",
   "execution_count": 53,
   "metadata": {},
   "outputs": [],
   "source": [
    "# for x in df_paths:\n",
    "#     print(x.split(\"s6\")[0])\n"
   ]
  },
  {
   "cell_type": "code",
   "execution_count": 59,
   "metadata": {},
   "outputs": [],
   "source": [
    "season_name = 's9'\n",
    "\n",
    "df_merged_list = []\n",
    "df_0 = pd.read_csv(\"./s9_csv/csv_clean/\" + df_paths[0])\n",
    "\n",
    "df_0[\"team_name\"] = df_paths[0].split(season_name)[0].strip()\n",
    "df_0[\"season\"] = \"PKL-0\" + season_name[-1]\n",
    "df_merged_list.append(df_0)\n"
   ]
  },
  {
   "cell_type": "code",
   "execution_count": 60,
   "metadata": {},
   "outputs": [
    {
     "data": {
      "text/plain": [
       "'Bengal Warriors'"
      ]
     },
     "execution_count": 60,
     "metadata": {},
     "output_type": "execute_result"
    }
   ],
   "source": [
    "df_paths[0].split(\"s9\")[0].strip()\n"
   ]
  },
  {
   "cell_type": "code",
   "execution_count": 61,
   "metadata": {},
   "outputs": [
    {
     "name": "stdout",
     "output_type": "stream",
     "text": [
      "['Bengal Warriors s9 conv_clean.csv', 'Bengaluru Bulls s9 conv_clean.csv', 'Dabang Delhi s9 conv_clean.csv', 'Gujarat Fortunegiants s9 conv_clean.csv', 'Jaipur Pink Panthers s9 conv_clean.csv', 'Patna Pirates s9 conv_clean.csv', 'Puneri Paltan s9 conv_clean.csv', 'Tamil Thailaivas s9 conv_clean.csv', 'Telugu Titans s9 conv_clean.csv', 'U Mumba s9 conv_clean.csv', 'UP Yoddha s9 conv_clean.csv', 'harayana s9 conv_clean.csv'] 12 1\n"
     ]
    }
   ],
   "source": [
    "print(df_paths, len(df_paths), len(df_merged_list))\n"
   ]
  },
  {
   "cell_type": "code",
   "execution_count": 62,
   "metadata": {},
   "outputs": [
    {
     "name": "stdout",
     "output_type": "stream",
     "text": [
      "Bengaluru Bulls\n",
      "Dabang Delhi\n",
      "Gujarat Fortunegiants\n",
      "Jaipur Pink Panthers\n",
      "Patna Pirates\n",
      "Puneri Paltan\n",
      "Tamil Thailaivas\n",
      "Telugu Titans\n",
      "U Mumba\n",
      "UP Yoddha\n",
      "harayana\n"
     ]
    }
   ],
   "source": [
    "for i in range(1, len(df_paths)):\n",
    "    df = pd.read_csv(\"./s9_csv/csv_clean/\" + df_paths[i])\n",
    "    print(df_paths[i].split(season_name)[0].strip())\n",
    "    df[\"team_name\"] = df_paths[i].split(season_name)[0].strip()\n",
    "    df[\"season\"] = \"PKL-0\" + season_name[-1]\n",
    "    df_merged_list.append(df)\n"
   ]
  },
  {
   "cell_type": "code",
   "execution_count": null,
   "metadata": {},
   "outputs": [],
   "source": [
    "\n"
   ]
  },
  {
   "cell_type": "code",
   "execution_count": 63,
   "metadata": {},
   "outputs": [],
   "source": [
    "df_merged = pd.concat(df_merged_list, axis=0, ignore_index=True)\n"
   ]
  },
  {
   "cell_type": "code",
   "execution_count": 64,
   "metadata": {},
   "outputs": [
    {
     "data": {
      "text/plain": [
       "68"
      ]
     },
     "execution_count": 64,
     "metadata": {},
     "output_type": "execute_result"
    }
   ],
   "source": [
    "len(df_merged[df_merged[\"team_name\"] == \"UP Yoddha\"])\n"
   ]
  },
  {
   "cell_type": "code",
   "execution_count": 65,
   "metadata": {},
   "outputs": [
    {
     "name": "stdout",
     "output_type": "stream",
     "text": [
      "68\n"
     ]
    },
    {
     "data": {
      "text/plain": [
       "['Raider Name',\n",
       " 'Number of Defenders',\n",
       " 'Total Raids',\n",
       " '% of Raids',\n",
       " 'Empty',\n",
       " 'Successful',\n",
       " 'Unsuccessful',\n",
       " 'team_name',\n",
       " 'season']"
      ]
     },
     "execution_count": 65,
     "metadata": {},
     "output_type": "execute_result"
    }
   ],
   "source": [
    "df_up = pd.read_csv(f\"./s9_csv/csv_clean/\" + f\"UP Yoddha {season_name} conv_clean.csv\")\n",
    "print(len(df_up))\n",
    "\n",
    "df_merged.columns.tolist()\n"
   ]
  },
  {
   "cell_type": "code",
   "execution_count": 66,
   "metadata": {},
   "outputs": [
    {
     "name": "stdout",
     "output_type": "stream",
     "text": [
      "<class 'pandas.core.frame.DataFrame'>\n",
      "RangeIndex: 724 entries, 0 to 723\n",
      "Data columns (total 9 columns):\n",
      " #   Column               Non-Null Count  Dtype \n",
      "---  ------               --------------  ----- \n",
      " 0   Raider Name          190 non-null    object\n",
      " 1   Number of Defenders  724 non-null    int64 \n",
      " 2   Total Raids          724 non-null    int64 \n",
      " 3   % of Raids           724 non-null    object\n",
      " 4   Empty                552 non-null    object\n",
      " 5   Successful           507 non-null    object\n",
      " 6   Unsuccessful         505 non-null    object\n",
      " 7   team_name            724 non-null    object\n",
      " 8   season               724 non-null    object\n",
      "dtypes: int64(2), object(7)\n",
      "memory usage: 51.0+ KB\n"
     ]
    }
   ],
   "source": [
    "df_merged.info()\n"
   ]
  },
  {
   "cell_type": "code",
   "execution_count": 67,
   "metadata": {},
   "outputs": [],
   "source": [
    "df_merged = df_merged[['season','team_name','Raider Name',\n",
    " 'Number of Defenders',\n",
    " 'Total Raids',\n",
    " '% of Raids',\n",
    " 'Empty',\n",
    " 'Successful',\n",
    " 'Unsuccessful']]\n"
   ]
  },
  {
   "cell_type": "code",
   "execution_count": 68,
   "metadata": {},
   "outputs": [
    {
     "data": {
      "text/html": [
       "<div>\n",
       "<style scoped>\n",
       "    .dataframe tbody tr th:only-of-type {\n",
       "        vertical-align: middle;\n",
       "    }\n",
       "\n",
       "    .dataframe tbody tr th {\n",
       "        vertical-align: top;\n",
       "    }\n",
       "\n",
       "    .dataframe thead th {\n",
       "        text-align: right;\n",
       "    }\n",
       "</style>\n",
       "<table border=\"1\" class=\"dataframe\">\n",
       "  <thead>\n",
       "    <tr style=\"text-align: right;\">\n",
       "      <th></th>\n",
       "      <th>season</th>\n",
       "      <th>team_name</th>\n",
       "      <th>Raider Name</th>\n",
       "      <th>Number of Defenders</th>\n",
       "      <th>Total Raids</th>\n",
       "      <th>% of Raids</th>\n",
       "      <th>Empty</th>\n",
       "      <th>Successful</th>\n",
       "      <th>Unsuccessful</th>\n",
       "    </tr>\n",
       "  </thead>\n",
       "  <tbody>\n",
       "    <tr>\n",
       "      <th>0</th>\n",
       "      <td>PKL-09</td>\n",
       "      <td>Bengal Warriors</td>\n",
       "      <td>Ajinkya Kapre</td>\n",
       "      <td>4</td>\n",
       "      <td>12</td>\n",
       "      <td>40%</td>\n",
       "      <td>50.00%</td>\n",
       "      <td>16.70%</td>\n",
       "      <td>33.30%</td>\n",
       "    </tr>\n",
       "    <tr>\n",
       "      <th>1</th>\n",
       "      <td>PKL-09</td>\n",
       "      <td>Bengal Warriors</td>\n",
       "      <td>NaN</td>\n",
       "      <td>5</td>\n",
       "      <td>5</td>\n",
       "      <td>17%</td>\n",
       "      <td>20.00%</td>\n",
       "      <td>NaN</td>\n",
       "      <td>80.00%</td>\n",
       "    </tr>\n",
       "    <tr>\n",
       "      <th>2</th>\n",
       "      <td>PKL-09</td>\n",
       "      <td>Bengal Warriors</td>\n",
       "      <td>NaN</td>\n",
       "      <td>6</td>\n",
       "      <td>3</td>\n",
       "      <td>10%</td>\n",
       "      <td>33.30%</td>\n",
       "      <td>66.70%</td>\n",
       "      <td>NaN</td>\n",
       "    </tr>\n",
       "    <tr>\n",
       "      <th>3</th>\n",
       "      <td>PKL-09</td>\n",
       "      <td>Bengal Warriors</td>\n",
       "      <td>NaN</td>\n",
       "      <td>7</td>\n",
       "      <td>10</td>\n",
       "      <td>33%</td>\n",
       "      <td>30.00%</td>\n",
       "      <td>20.00%</td>\n",
       "      <td>50.00%</td>\n",
       "    </tr>\n",
       "    <tr>\n",
       "      <th>4</th>\n",
       "      <td>PKL-09</td>\n",
       "      <td>Bengal Warriors</td>\n",
       "      <td>Akash Pikalmunde</td>\n",
       "      <td>5</td>\n",
       "      <td>2</td>\n",
       "      <td>14%</td>\n",
       "      <td>NaN</td>\n",
       "      <td>NaN</td>\n",
       "      <td>100.00%</td>\n",
       "    </tr>\n",
       "  </tbody>\n",
       "</table>\n",
       "</div>"
      ],
      "text/plain": [
       "   season        team_name       Raider Name  Number of Defenders  \\\n",
       "0  PKL-09  Bengal Warriors     Ajinkya Kapre                    4   \n",
       "1  PKL-09  Bengal Warriors               NaN                    5   \n",
       "2  PKL-09  Bengal Warriors               NaN                    6   \n",
       "3  PKL-09  Bengal Warriors               NaN                    7   \n",
       "4  PKL-09  Bengal Warriors  Akash Pikalmunde                    5   \n",
       "\n",
       "   Total Raids % of Raids   Empty Successful Unsuccessful  \n",
       "0           12        40%  50.00%     16.70%       33.30%  \n",
       "1            5        17%  20.00%        NaN       80.00%  \n",
       "2            3        10%  33.30%     66.70%          NaN  \n",
       "3           10        33%  30.00%     20.00%       50.00%  \n",
       "4            2        14%     NaN        NaN      100.00%  "
      ]
     },
     "execution_count": 68,
     "metadata": {},
     "output_type": "execute_result"
    }
   ],
   "source": [
    "df_merged.head()\n"
   ]
  },
  {
   "cell_type": "code",
   "execution_count": 69,
   "metadata": {},
   "outputs": [],
   "source": [
    "df_merged.to_csv(\"./s9_csv/merged_csv_s9_clean.csv\", index=False)\n"
   ]
  },
  {
   "cell_type": "code",
   "execution_count": null,
   "metadata": {},
   "outputs": [],
   "source": []
  }
 ],
 "metadata": {
  "kernelspec": {
   "display_name": "cmu",
   "language": "python",
   "name": "python3"
  },
  "language_info": {
   "codemirror_mode": {
    "name": "ipython",
    "version": 3
   },
   "file_extension": ".py",
   "mimetype": "text/x-python",
   "name": "python",
   "nbconvert_exporter": "python",
   "pygments_lexer": "ipython3",
   "version": "3.10.14"
  }
 },
 "nbformat": 4,
 "nbformat_minor": 2
}
